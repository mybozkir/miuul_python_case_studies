{
 "cells": [
  {
   "cell_type": "code",
   "execution_count": 5,
   "id": "6972b79f",
   "metadata": {},
   "outputs": [
    {
     "data": {
      "text/plain": [
       "['THE',\n",
       " 'GOAL',\n",
       " 'IS',\n",
       " 'TO',\n",
       " 'TURN',\n",
       " 'DATA',\n",
       " 'INTO',\n",
       " 'INFORMATION',\n",
       " 'AND',\n",
       " 'INFORMATION',\n",
       " 'INTO',\n",
       " 'INSIGHT']"
      ]
     },
     "execution_count": 5,
     "metadata": {},
     "output_type": "execute_result"
    }
   ],
   "source": [
    "# Görev 2: Verilen string ifadenin tüm harflerini büyük harfe çeviriniz.\n",
    "#Virgül ve nokta yerine space koyunuz, kelime kelime ayırınız.\n",
    "\n",
    "text = \"The goal is to turn data into information, and information into insight.\"\n",
    "\n",
    "text.upper().replace(\".\", \"\").replace(\",\", \"\").split()\n"
   ]
  },
  {
   "cell_type": "code",
   "execution_count": 14,
   "id": "d60f9034",
   "metadata": {},
   "outputs": [
    {
     "name": "stdout",
     "output_type": "stream",
     "text": [
      "['D', 'A', 'T', 'A', 'S', 'C', 'I', 'E', 'N', 'C', 'E']\n",
      "D E\n",
      "['D', 'A', 'T', 'A']\n",
      "['D', 'A', 'T', 'A', 'S', 'C', 'I', 'E', 'C', 'E']\n",
      "['D', 'A', 'T', 'A', 'S', 'C', 'I', 'E', 'C', 'E', 'M']\n",
      "['D', 'A', 'T', 'A', 'S', 'C', 'I', 'E', 'N', 'C', 'E', 'M']\n"
     ]
    }
   ],
   "source": [
    "# Görev 3: Verilen listeye aşağıdaki adımları uygulayınız.\n",
    "\n",
    "lst = \"D A T A S C I E N C E\".split()\n",
    "print(lst)\n",
    "\n",
    "# Adım 1: Verilen listenin eleman sayısına bakınız.\n",
    "len(lst)\n",
    "\n",
    "# Adım 2: Sıfırıncı ve onuncu indeksteki elemanları çağırınız.\n",
    "print(lst[0], lst[10])\n",
    "\n",
    "# Adım 3: Verilen liste üzerinden [\"D\", \"A\", \"T\", \"A\"] listesi oluşturunuz.\n",
    "new_list = lst[0:4]\n",
    "print(new_list)\n",
    "\n",
    "# Adım 4: 8. indeksteki elemanı siliniz.\n",
    "lst.pop(8)\n",
    "print(lst)\n",
    "\n",
    "# Adım 5: Yeni bir eleman ekleyiniz.\n",
    "lst.append(\"M\")\n",
    "print(lst)\n",
    "\n",
    "# Adım 6: 8. indekse \"N\" elemanını tekrar ekleyiniz.\n",
    "lst.insert(8, \"N\")\n",
    "print(lst)"
   ]
  },
  {
   "cell_type": "code",
   "execution_count": 27,
   "id": "fae0fa1f",
   "metadata": {},
   "outputs": [
    {
     "name": "stdout",
     "output_type": "stream",
     "text": [
      "{'Christian': ['America', 18], 'Daisy': ['England', 13], 'Antonio': ['Spain', 22], 'Dante': ['Italy', 25]}\n",
      "{'Christian': ['America', 18], 'Daisy': ['England', 13], 'Antonio': ['Spain', 22], 'Dante': ['Italy', 25], 'Ahmet': ['Turkey', 24]}\n",
      "{'Christian': ['America', 18], 'Daisy': ['England', 13], 'Dante': ['Italy', 25], 'Ahmet': ['Turkey', 24]}\n"
     ]
    }
   ],
   "source": [
    "# Görev 4: Verilen sözlük yapısına aşağıdaki adımları uygulayınız.\n",
    "\n",
    "dic = {\n",
    "    'Christian': ['America', 18],\n",
    "    'Daisy': ['England', 12],\n",
    "    'Antonio': ['Spain', 22],\n",
    "    'Dante': ['Italy', 25]\n",
    "}\n",
    "\n",
    "# Adım 1: Key değerlerine erişiniz.\n",
    "dic.keys()\n",
    "\n",
    "# Adım 2: Value değerlerine erişiniz.\n",
    "dic.values()\n",
    "\n",
    "# Adım 3: Daisy key'ine ait 12 değerini 13 olarak güncelleyiniz.\n",
    "val1 = {\n",
    "    'Daisy': ['England', 13]\n",
    "}\n",
    "\n",
    "dic.update(val1)\n",
    "\n",
    "print(dic)\n",
    "\n",
    "# Adım 4: Key değeri Ahmet, value değeri [Turkey, 24] olan yeni bir değer ekleyiniz.\n",
    "val2 = {\n",
    "    'Ahmet': ['Turkey', 24]\n",
    "}\n",
    "\n",
    "dic.update(val2)\n",
    "\n",
    "print(dic)\n",
    "\n",
    "# Adım 5: Antonio'yu siliniz.\n",
    "dic.pop('Antonio')\n",
    "\n",
    "print(dic)"
   ]
  },
  {
   "cell_type": "code",
   "execution_count": 28,
   "id": "faf0a452",
   "metadata": {},
   "outputs": [
    {
     "name": "stdout",
     "output_type": "stream",
     "text": [
      "[2, 18, 22]\n"
     ]
    }
   ],
   "source": [
    "# Görev 5: Argüman olarak bir liste alan, listenin içerisindeki tek ve çift sayıları ayrı listelere atayan,\n",
    "# bu listeleri return eden bir fonksiyon yazınız.\n",
    "\n",
    "l = [2, 13, 18, 93, 22]\n",
    "\n",
    "def seper(_list):\n",
    "    even_list = []\n",
    "    odd_list = []\n",
    "    \n",
    "    for val in _list:\n",
    "        if val % 2 == 0:\n",
    "            even_list.append(val)\n",
    "        else:\n",
    "            odd_list.append(val)\n",
    "            \n",
    "    return even_list, odd_list\n",
    "\n",
    "even_list, odd_list = seper(l)\n",
    "\n",
    "print(even_list)"
   ]
  },
  {
   "cell_type": "code",
   "execution_count": 41,
   "id": "4a2f552b",
   "metadata": {},
   "outputs": [
    {
     "name": "stdout",
     "output_type": "stream",
     "text": [
      "Mühendislik Fakültesi 1. öğrenci: Ali\n",
      "Mühendislik Fakültesi 2. öğrenci: Veli\n",
      "Mühendislik Fakültesi 3. öğrenci: Ayşe\n",
      "Tıp Fakültesi 1. öğrenci: Talat\n",
      "Tıp Fakültesi 2. öğrenci: Zeynep\n",
      "Tıp Fakültesi 3. öğrenci: Ece\n"
     ]
    }
   ],
   "source": [
    "# Görev 6: Aşağıda verilen listede mühendislik ve tıp fakültelerinde derece giren öğrencilerin isimleri bulunmaktadır.\n",
    "# Sırasıyla ilk üç öğrenci mühendislik fakültesinin başarı sırasını temsil ederken, son üç öğrenci de tıp fakültesi\n",
    "# öğrenci sırasına aittir. Enum kullanarak öğrenci derecelerini fakülte özelinde yazdırınız.\n",
    "\n",
    "ogrenciler = [\"Ali\", \"Veli\", \"Ayşe\", \"Talat\", \"Zeynep\", \"Ece\"]\n",
    "\n",
    "for index, ogrenci in enumerate(ogrenciler):\n",
    "    if index < 3:\n",
    "        print(f'Mühendislik Fakültesi {index + 1}. öğrenci: {ogrenci}')\n",
    "    else:\n",
    "        print(f'Tıp Fakültesi {index - 2}. öğrenci: {ogrenci}')"
   ]
  },
  {
   "cell_type": "code",
   "execution_count": 50,
   "id": "974fb5e8",
   "metadata": {},
   "outputs": [
    {
     "name": "stdout",
     "output_type": "stream",
     "text": [
      "Kredisi 3 olan CMP1005 kodlu dersin kontenjanı 30 kişidir.\n",
      "Kredisi 4 olan PSY1001 kodlu dersin kontenjanı 75 kişidir.\n",
      "Kredisi 2 olan HUK1005 kodlu dersin kontenjanı 150 kişidir.\n",
      "Kredisi 4 olan SEN2204 kodlu dersin kontenjanı 25 kişidir.\n"
     ]
    }
   ],
   "source": [
    "# Görev 7: Aşağıda 3 adet liste verilmiştir. Listelerde sırası ile bir dersin kodu, kredisi ve kontenjan bilgileri\n",
    "# yer almaktadır. Zip kullanarak ders bilgilerini bastırınız.\n",
    "\n",
    "ders_kodu = ['CMP1005', 'PSY1001', 'HUK1005', 'SEN2204']\n",
    "kredi = [3, 4, 2, 4]\n",
    "kontenjan = [30, 75, 150, 25]\n",
    "\n",
    "dersler = list(zip(ders_kodu, kredi, kontenjan))\n",
    "\n",
    "for ders in dersler:\n",
    "    print(f'Kredisi {ders[1]} olan {ders[0]} kodlu dersin kontenjanı {ders[2]} kişidir.')\n"
   ]
  },
  {
   "cell_type": "code",
   "execution_count": null,
   "id": "15570bf9",
   "metadata": {},
   "outputs": [],
   "source": []
  },
  {
   "cell_type": "code",
   "execution_count": null,
   "id": "e6cc5aff",
   "metadata": {},
   "outputs": [],
   "source": []
  },
  {
   "cell_type": "code",
   "execution_count": null,
   "id": "2ee1804c",
   "metadata": {},
   "outputs": [],
   "source": []
  },
  {
   "cell_type": "code",
   "execution_count": null,
   "id": "6e41ff2e",
   "metadata": {},
   "outputs": [],
   "source": []
  }
 ],
 "metadata": {
  "kernelspec": {
   "display_name": "Python 3 (ipykernel)",
   "language": "python",
   "name": "python3"
  },
  "language_info": {
   "codemirror_mode": {
    "name": "ipython",
    "version": 3
   },
   "file_extension": ".py",
   "mimetype": "text/x-python",
   "name": "python",
   "nbconvert_exporter": "python",
   "pygments_lexer": "ipython3",
   "version": "3.11.4"
  }
 },
 "nbformat": 4,
 "nbformat_minor": 5
}
